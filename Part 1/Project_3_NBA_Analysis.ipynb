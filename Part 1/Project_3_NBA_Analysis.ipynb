{
 "cells": [
  {
   "cell_type": "markdown",
   "id": "287235d6",
   "metadata": {},
   "source": [
    "# Task 1# Top 10 NBA player who have the highest salary\n"
   ]
  },
  {
   "cell_type": "markdown",
   "id": "d4d84acf",
   "metadata": {},
   "source": [
    "1. get all the libraries\n",
    "2. request and soup object\n",
    "3. Find the nba team box for each conference\n",
    "4. Get href for all the teams in each conference\n",
    "5. Get the html content for each team page\n",
    "6. def function to get the team Name\n",
    "7. Find the Salary Box\n",
    "8. def a function to Uncomment the commented div for each team\n",
    "9. Get the Player with the highest salary for each team\n",
    "10. Turn the data to Panda DataFrame\n",
    "11. Save it as SCV"
   ]
  },
  {
   "cell_type": "markdown",
   "id": "95eace44",
   "metadata": {},
   "source": [
    "### get all the libraries"
   ]
  },
  {
   "cell_type": "code",
   "execution_count": 3,
   "id": "a5f9b699",
   "metadata": {},
   "outputs": [],
   "source": [
    "from bs4 import BeautifulSoup as soup\n",
    "from bs4 import Comment\n",
    "import requests"
   ]
  },
  {
   "cell_type": "markdown",
   "id": "a1954351",
   "metadata": {},
   "source": [
    "### request and soup object"
   ]
  },
  {
   "cell_type": "code",
   "execution_count": 55,
   "id": "ac40b872",
   "metadata": {},
   "outputs": [],
   "source": [
    "BASE = 'https://www.basketball-reference.com/'\n",
    "r = requests.get(BASE)"
   ]
  },
  {
   "cell_type": "code",
   "execution_count": 56,
   "id": "18ee913b",
   "metadata": {},
   "outputs": [],
   "source": [
    "content = soup(r.content)"
   ]
  },
  {
   "cell_type": "markdown",
   "id": "0d464a02",
   "metadata": {},
   "source": [
    "### Find the nba team box and 'href' for each team"
   ]
  },
  {
   "cell_type": "code",
   "execution_count": 57,
   "id": "a971a3c3",
   "metadata": {},
   "outputs": [],
   "source": [
    "NBA_teams_box = content.find(id = 'teams')\n",
    "confs_standings_W = NBA_teams_box.find(id = 'confs_standings_W')\n",
    "w_tbody = confs_standings_W.find('tbody')\n",
    "w_teams = w_tbody.find_all(attrs= {'data-stat':'team_name'})\n",
    "w_path =  [w_t.find('a', href=True)['href'] for w_t in w_teams]\n",
    "\n",
    "confs_standings_E = NBA_teams_box.find(id = 'confs_standings_E')\n",
    "e_tbody = confs_standings_E.find('tbody')\n",
    "e_teams = e_tbody.find_all(attrs= {'data-stat':'team_name'})\n",
    "e_path =  [e_t.find('a', href=True)['href'] for e_t in e_teams]\n"
   ]
  },
  {
   "cell_type": "markdown",
   "id": "8d6c3209",
   "metadata": {},
   "source": [
    "### Get the html content for each team page"
   ]
  },
  {
   "cell_type": "code",
   "execution_count": 73,
   "id": "9d34f306",
   "metadata": {},
   "outputs": [],
   "source": [
    "def get_html_content(paths):\n",
    "    team_pages = []\n",
    "    BASE = 'https://www.basketball-reference.com'\n",
    "    for path in paths:\n",
    "        URL = BASE+path\n",
    "        r = requests.get(URL)\n",
    "        contents = soup(r.content)\n",
    "        team_pages.append(contents)\n",
    "    return team_pages "
   ]
  },
  {
   "cell_type": "markdown",
   "id": "18b6af88",
   "metadata": {},
   "source": [
    "### Define function to get the team Name"
   ]
  },
  {
   "cell_type": "code",
   "execution_count": 59,
   "id": "acf41575",
   "metadata": {},
   "outputs": [],
   "source": [
    "def get_team_name(team_page):\n",
    "    h = team_page.find('h1')\n",
    "    for index, sp in enumerate(h.find_all('span')):\n",
    "        if index == 1:\n",
    "            return sp.string"
   ]
  },
  {
   "cell_type": "markdown",
   "id": "6ca12388",
   "metadata": {},
   "source": [
    "### Define a function to Find the Salary Box"
   ]
  },
  {
   "cell_type": "code",
   "execution_count": 76,
   "id": "ded88c7d",
   "metadata": {},
   "outputs": [],
   "source": [
    "def salary_box(team_page):\n",
    "    team_salary = team_page.find(id = 'all_salaries2')\n",
    "    comment = team_salary.find(string=lambda text: isinstance(text, Comment))\n",
    "    uncomment = soup(comment.extract())\n",
    "    salary_tbody = uncomment.find('tbody')\n",
    "    player_info = salary_tbody.find('tr')\n",
    "    player_name = player_info.find(attrs={'data-stat':'player'})\n",
    "    player_salary = player_info.find(attrs={'data-stat':'salary'})\n",
    "    \n",
    "    return player_name.string, player_salary.string\n",
    "    "
   ]
  },
  {
   "cell_type": "markdown",
   "id": "0189f100",
   "metadata": {},
   "source": [
    "### Get the Player with the highest salary for each team"
   ]
  },
  {
   "cell_type": "code",
   "execution_count": 71,
   "id": "cbd5dbfc",
   "metadata": {},
   "outputs": [
    {
     "name": "stdout",
     "output_type": "stream",
     "text": [
      "https://www.basketball-reference.com/teams/DEN/2023.html\n",
      "https://www.basketball-reference.com/teams/MEM/2023.html\n",
      "https://www.basketball-reference.com/teams/SAC/2023.html\n",
      "https://www.basketball-reference.com/teams/PHO/2023.html\n",
      "https://www.basketball-reference.com/teams/LAC/2023.html\n",
      "https://www.basketball-reference.com/teams/DAL/2023.html\n",
      "https://www.basketball-reference.com/teams/GSW/2023.html\n",
      "https://www.basketball-reference.com/teams/UTA/2023.html\n",
      "https://www.basketball-reference.com/teams/MIN/2023.html\n",
      "https://www.basketball-reference.com/teams/NOP/2023.html\n",
      "https://www.basketball-reference.com/teams/POR/2023.html\n",
      "https://www.basketball-reference.com/teams/LAL/2023.html\n",
      "https://www.basketball-reference.com/teams/OKC/2023.html\n",
      "https://www.basketball-reference.com/teams/SAS/2023.html\n",
      "https://www.basketball-reference.com/teams/HOU/2023.html\n",
      "https://www.basketball-reference.com/teams/BOS/2023.html\n",
      "https://www.basketball-reference.com/teams/MIL/2023.html\n",
      "https://www.basketball-reference.com/teams/PHI/2023.html\n",
      "https://www.basketball-reference.com/teams/CLE/2023.html\n",
      "https://www.basketball-reference.com/teams/BRK/2023.html\n",
      "https://www.basketball-reference.com/teams/NYK/2023.html\n",
      "https://www.basketball-reference.com/teams/MIA/2023.html\n",
      "https://www.basketball-reference.com/teams/ATL/2023.html\n",
      "https://www.basketball-reference.com/teams/TOR/2023.html\n",
      "https://www.basketball-reference.com/teams/WAS/2023.html\n",
      "https://www.basketball-reference.com/teams/CHI/2023.html\n",
      "https://www.basketball-reference.com/teams/IND/2023.html\n",
      "https://www.basketball-reference.com/teams/ORL/2023.html\n",
      "https://www.basketball-reference.com/teams/CHO/2023.html\n",
      "https://www.basketball-reference.com/teams/DET/2023.html\n"
     ]
    }
   ],
   "source": [
    "west_teams = get_html_content(w_path)\n",
    "east_teams = get_html_content(e_path)"
   ]
  },
  {
   "cell_type": "code",
   "execution_count": 77,
   "id": "dea7cce1",
   "metadata": {},
   "outputs": [
    {
     "ename": "AttributeError",
     "evalue": "'NoneType' object has no attribute 'find'",
     "output_type": "error",
     "traceback": [
      "\u001b[0;31m---------------------------------------------------------------------------\u001b[0m",
      "\u001b[0;31mAttributeError\u001b[0m                            Traceback (most recent call last)",
      "Input \u001b[0;32mIn [77]\u001b[0m, in \u001b[0;36m<cell line: 2>\u001b[0;34m()\u001b[0m\n\u001b[1;32m      3\u001b[0m team_info \u001b[38;5;241m=\u001b[39m []\n\u001b[1;32m      4\u001b[0m team_name \u001b[38;5;241m=\u001b[39m get_team_name(team)\n\u001b[0;32m----> 5\u001b[0m player, salary \u001b[38;5;241m=\u001b[39m \u001b[43msalary_box\u001b[49m\u001b[43m(\u001b[49m\u001b[43mteam\u001b[49m\u001b[43m)\u001b[49m\n\u001b[1;32m      6\u001b[0m team_info\u001b[38;5;241m.\u001b[39mextend([player,salary,team_name])\n\u001b[1;32m      7\u001b[0m west_players\u001b[38;5;241m.\u001b[39mappend(team_info)\n",
      "Input \u001b[0;32mIn [76]\u001b[0m, in \u001b[0;36msalary_box\u001b[0;34m(team_page)\u001b[0m\n\u001b[1;32m      1\u001b[0m \u001b[38;5;28;01mdef\u001b[39;00m \u001b[38;5;21msalary_box\u001b[39m(team_page):\n\u001b[1;32m      2\u001b[0m     team_salary \u001b[38;5;241m=\u001b[39m team_page\u001b[38;5;241m.\u001b[39mfind(\u001b[38;5;28mid\u001b[39m \u001b[38;5;241m=\u001b[39m \u001b[38;5;124m'\u001b[39m\u001b[38;5;124mall_salaries2\u001b[39m\u001b[38;5;124m'\u001b[39m)\n\u001b[0;32m----> 3\u001b[0m     comment \u001b[38;5;241m=\u001b[39m \u001b[43mteam_salary\u001b[49m\u001b[38;5;241;43m.\u001b[39;49m\u001b[43mfind\u001b[49m(string\u001b[38;5;241m=\u001b[39m\u001b[38;5;28;01mlambda\u001b[39;00m text: \u001b[38;5;28misinstance\u001b[39m(text, Comment))\n\u001b[1;32m      4\u001b[0m     uncomment \u001b[38;5;241m=\u001b[39m soup(comment\u001b[38;5;241m.\u001b[39mextract())\n\u001b[1;32m      5\u001b[0m     salary_tbody \u001b[38;5;241m=\u001b[39m uncomment\u001b[38;5;241m.\u001b[39mfind(\u001b[38;5;124m'\u001b[39m\u001b[38;5;124mtbody\u001b[39m\u001b[38;5;124m'\u001b[39m)\n",
      "\u001b[0;31mAttributeError\u001b[0m: 'NoneType' object has no attribute 'find'"
     ]
    }
   ],
   "source": [
    "west_players = []\n",
    "for team in west_teams:\n",
    "    team_info = []\n",
    "    team_name = get_team_name(team)\n",
    "    player, salary = salary_box(team)\n",
    "    team_info.extend([player,salary,team_name])\n",
    "    west_players.append(team_info)\n",
    "    "
   ]
  },
  {
   "cell_type": "code",
   "execution_count": null,
   "id": "87bf7b83",
   "metadata": {},
   "outputs": [],
   "source": []
  }
 ],
 "metadata": {
  "kernelspec": {
   "display_name": "Python 3 (ipykernel)",
   "language": "python",
   "name": "python3"
  },
  "language_info": {
   "codemirror_mode": {
    "name": "ipython",
    "version": 3
   },
   "file_extension": ".py",
   "mimetype": "text/x-python",
   "name": "python",
   "nbconvert_exporter": "python",
   "pygments_lexer": "ipython3",
   "version": "3.9.12"
  }
 },
 "nbformat": 4,
 "nbformat_minor": 5
}
